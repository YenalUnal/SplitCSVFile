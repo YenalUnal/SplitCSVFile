{
 "cells": [
  {
   "cell_type": "code",
   "execution_count": 2,
   "id": "662ff6c0",
   "metadata": {},
   "outputs": [
    {
     "name": "stdout",
     "output_type": "stream",
     "text": [
      "END\n"
     ]
    }
   ],
   "source": [
    "import pandas as pd\n",
    "\n",
    "filename=\"furnitureupdate\"\n",
    " \n",
    "# read DataFrame\n",
    "data = pd.read_csv(\"./csv/Furniture_Room_update.csv\")\n",
    " \n",
    "# no of csv files with row size\n",
    "\n",
    "size = 200\n",
    "k = int(len(data) / size)+1\n",
    " \n",
    "for i in range(k):\n",
    "    df = data[size*i:size*(i+1)]\n",
    "    df.to_csv(f'Furniture_Room_update_{i+1}.csv', index=False)\n",
    "\n",
    "print(\"END\")\n",
    "#df_1 = pd.read_csv(\"Customers_1.csv\")\n",
    "#print(df_1)\n",
    " \n",
    "#df_2 = pd.read_csv(\"Customers_2.csv\")\n",
    "#print(df_2)"
   ]
  },
  {
   "cell_type": "code",
   "execution_count": null,
   "id": "cb0e41a8",
   "metadata": {},
   "outputs": [],
   "source": []
  },
  {
   "cell_type": "code",
   "execution_count": 14,
   "id": "ff7d7c2f",
   "metadata": {},
   "outputs": [
    {
     "name": "stdout",
     "output_type": "stream",
     "text": [
      "3\n"
     ]
    }
   ],
   "source": [
    "import pandas as pd\n",
    " \n",
    "# read DataFrame\n",
    "data = pd.read_csv(\"ParentUpdateMain.csv\")\n",
    " \n",
    "# no of csv files with row size\n",
    "k = int(len(data) / 200)+1\n",
    "\n",
    "print(k)"
   ]
  }
 ],
 "metadata": {
  "kernelspec": {
   "display_name": "Python 3 (ipykernel)",
   "language": "python",
   "name": "python3"
  },
  "language_info": {
   "codemirror_mode": {
    "name": "ipython",
    "version": 3
   },
   "file_extension": ".py",
   "mimetype": "text/x-python",
   "name": "python",
   "nbconvert_exporter": "python",
   "pygments_lexer": "ipython3",
   "version": "3.10.2"
  }
 },
 "nbformat": 4,
 "nbformat_minor": 5
}
